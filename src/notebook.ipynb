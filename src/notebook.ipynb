{
 "cells": [
  {
   "cell_type": "raw",
   "metadata": {},
   "source": [
    "<form action=\"javascript:code_toggle()\"><input type=\"submit\" id=\"toggleButton\" value=\"Show Code\"></form>"
   ]
  },
  {
   "cell_type": "markdown",
   "metadata": {},
   "source": [
    "# Title\n",
    "\n",
    "##### Purpose\n",
    "As an _ABC_ I would like to _GHJ_ so that _XYZ_. \n",
    "\n",
    "Link to relevant JIRA ticket:\n",
    "\n",
    "This notebook will seek to answer/achieve the following questions and goals:\n",
    "1. –\n",
    "2. –\n",
    "3. –\n",
    "\n",
    "<div class=\"alert alert-warning\">\n",
    "<b>What is this \"notebook\"? How do I read it?</b><br>\n",
    "Think of this document as a laboratory notebook which documents the originating questions, attempts undertaken and decisions made along the way to producing an insight. Having this information in line with the original code used for the analysis allows for future reproducability by other analysts. If you are interested primarily in the results of the analysis, you can safely skip over the code chunks and focus on the graphics and text. \n",
    "</div>"
   ]
  },
  {
   "cell_type": "markdown",
   "metadata": {
    "toc": true
   },
   "source": [
    "<h1>Table of Contents<span class=\"tocSkip\"></span></h1>\n",
    "<div class=\"toc\" style=\"margin-top: 1em;\"><ul class=\"toc-item\"><li><span><a href=\"#Title\" data-toc-modified-id=\"Title-1\"><span class=\"toc-item-num\">1&nbsp;&nbsp;</span>Title</a></span><ul class=\"toc-item\"><li><span><a href=\"#Setup\" data-toc-modified-id=\"Setup-1.1\"><span class=\"toc-item-num\">1.1&nbsp;&nbsp;</span>Setup</a></span><ul class=\"toc-item\"><li><span><a href=\"#Configuration\" data-toc-modified-id=\"Configuration-1.1.1\"><span class=\"toc-item-num\">1.1.1&nbsp;&nbsp;</span>Configuration</a></span></li><li><span><a href=\"#Connect-to-Redshift-database\" data-toc-modified-id=\"Connect-to-Redshift-database-1.1.2\"><span class=\"toc-item-num\">1.1.2&nbsp;&nbsp;</span>Connect to Redshift database</a></span></li></ul></li><li><span><a href=\"#Fetch-data\" data-toc-modified-id=\"Fetch-data-1.2\"><span class=\"toc-item-num\">1.2&nbsp;&nbsp;</span>Fetch data</a></span><ul class=\"toc-item\"><li><span><a href=\"#Pull-from-db\" data-toc-modified-id=\"Pull-from-db-1.2.1\"><span class=\"toc-item-num\">1.2.1&nbsp;&nbsp;</span>Pull from db</a></span></li><li><span><a href=\"#Apply-transformations\" data-toc-modified-id=\"Apply-transformations-1.2.2\"><span class=\"toc-item-num\">1.2.2&nbsp;&nbsp;</span>Apply transformations</a></span></li><li><span><a href=\"#Check-for-quality\" data-toc-modified-id=\"Check-for-quality-1.2.3\"><span class=\"toc-item-num\">1.2.3&nbsp;&nbsp;</span>Check for quality</a></span></li></ul></li><li><span><a href=\"#Analysis\" data-toc-modified-id=\"Analysis-1.3\"><span class=\"toc-item-num\">1.3&nbsp;&nbsp;</span>Analysis</a></span><ul class=\"toc-item\"><li><span><a href=\"#Exploratory-analysis\" data-toc-modified-id=\"Exploratory-analysis-1.3.1\"><span class=\"toc-item-num\">1.3.1&nbsp;&nbsp;</span>Exploratory analysis</a></span></li><li><span><a href=\"#Conclusion-/-Next-Steps\" data-toc-modified-id=\"Conclusion-/-Next-Steps-1.3.2\"><span class=\"toc-item-num\">1.3.2&nbsp;&nbsp;</span>Conclusion / Next Steps</a></span></li></ul></li></ul></li></ul></div>"
   ]
  },
  {
   "cell_type": "markdown",
   "metadata": {},
   "source": [
    "## Setup"
   ]
  },
  {
   "cell_type": "markdown",
   "metadata": {},
   "source": [
    "### Configuration"
   ]
  },
  {
   "cell_type": "code",
   "execution_count": null,
   "metadata": {
    "code_folding": []
   },
   "outputs": [],
   "source": [
    "# Python imports\n",
    "\n",
    "import numpy as np\n",
    "import pandas as pd\n",
    "import matplotlib.pyplot as plt\n",
    "import seaborn as sns\n",
    "import os, sys\n",
    "import datetime as dt\n",
    "\n",
    "\n",
    "# Notebook settings\n",
    "\n",
    "%load_ext autoreload\n",
    "%autoreload 2\n",
    "%matplotlib inline\n",
    "pd.set_option('float_format', lambda x: '%.3f' % x)\n",
    "pd.set_option('display.max_rows', 200)\n",
    "from IPython.core.display import HTML, display\n",
    "display(HTML(\"<style>.container { width:100% !important; }</style>\")) # Make notebook full width\n",
    "from IPython.core.interactiveshell import InteractiveShell\n",
    "InteractiveShell.ast_node_interactivity = \"all\" # Display all unassigned outputs"
   ]
  },
  {
   "cell_type": "code",
   "execution_count": null,
   "metadata": {},
   "outputs": [],
   "source": [
    "# Abstracting dates to analysis-level parameters allow for easy re-runs on future data.\n",
    "DATE_RANGE = {'date_from': '2017-01-01', 'date_until': '2018-01-01'}\n",
    "START_DATE, END_DATE = DATE_RANGE.values()"
   ]
  },
  {
   "cell_type": "markdown",
   "metadata": {},
   "source": [
    "### Connect to Redshift database\n",
    "This allows us to easily run inline queries using the %%sql command, which is useful for quick diagnostics that are not full data dumps."
   ]
  },
  {
   "cell_type": "code",
   "execution_count": null,
   "metadata": {},
   "outputs": [],
   "source": [
    "%load_ext sql\n",
    "%config SqlMagic.displaylimit=10\n",
    "\n",
    "connect_string = 'postgresql://{}:{}@{}:{}/{}'.format(os.environ['REDSHIFT_USERNAME'], \n",
    "                                                      os.environ['REDSHIFT_PASSWORD'], \n",
    "                                                      os.environ['REDSHIFT_HOST'],\n",
    "                                                      os.environ['REDSHIFT_PORT'],\n",
    "                                                      os.environ['REDSHIFT_DB'])\n",
    "%sql $connect_string"
   ]
  },
  {
   "cell_type": "markdown",
   "metadata": {},
   "source": [
    "## Fetch data"
   ]
  },
  {
   "cell_type": "markdown",
   "metadata": {},
   "source": [
    "### Pull from db"
   ]
  },
  {
   "cell_type": "markdown",
   "metadata": {},
   "source": [
    "### Apply transformations"
   ]
  },
  {
   "cell_type": "markdown",
   "metadata": {},
   "source": [
    "### Check for quality"
   ]
  },
  {
   "cell_type": "markdown",
   "metadata": {},
   "source": [
    "## Analysis"
   ]
  },
  {
   "cell_type": "markdown",
   "metadata": {},
   "source": [
    "### Exploratory analysis"
   ]
  },
  {
   "cell_type": "markdown",
   "metadata": {},
   "source": [
    "### Conclusion / Next Steps"
   ]
  },
  {
   "cell_type": "markdown",
   "metadata": {},
   "source": [
    "<br><br><br><br><br><br><br><br><br><br><br><br><br><br><br><br><br><br>"
   ]
  },
  {
   "cell_type": "raw",
   "metadata": {},
   "source": [
    "<script>\n",
    "  function code_toggle() {\n",
    "    if (code_shown){\n",
    "      $('div.input').hide('500');\n",
    "      $('#toggleButton').val('Show Code')\n",
    "    } else {\n",
    "      $('div.input').show('500');\n",
    "      $('#toggleButton').val('Hide Code')\n",
    "    }\n",
    "    code_shown = !code_shown\n",
    "  }\n",
    "\n",
    "  $( document ).ready(function(){\n",
    "    code_shown=false;\n",
    "    $('div.input').hide()\n",
    "  });\n",
    "\n",
    "  $(document).ready(function(){\n",
    "    $('div.prompt').hide();\n",
    "    $('div.back-to-top').hide();\n",
    "    $('nav#menubar').hide();\n",
    "    $('.breadcrumb').hide();\n",
    "    $('.hidden-print').hide();\n",
    "  });\n",
    "\n",
    "</script>"
   ]
  }
 ],
 "metadata": {
  "hide_input": false,
  "kernelspec": {
   "display_name": "Python [conda root]",
   "language": "python",
   "name": "conda-root-py"
  },
  "language_info": {
   "codemirror_mode": {
    "name": "ipython",
    "version": 3
   },
   "file_extension": ".py",
   "mimetype": "text/x-python",
   "name": "python",
   "nbconvert_exporter": "python",
   "pygments_lexer": "ipython3",
   "version": "3.6.3"
  },
  "toc": {
   "nav_menu": {},
   "number_sections": true,
   "sideBar": true,
   "skip_h1_title": false,
   "toc_cell": true,
   "toc_position": {
    "height": "876px",
    "left": "0px",
    "right": "1708px",
    "top": "107px",
    "width": "458px"
   },
   "toc_section_display": "none",
   "toc_window_display": false
  }
 },
 "nbformat": 4,
 "nbformat_minor": 2
}
